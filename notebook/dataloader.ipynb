{
 "cells": [
  {
   "cell_type": "code",
   "execution_count": null,
   "metadata": {},
   "outputs": [],
   "source": [
    "\"\"\"Test code for torchfont module.\"\"\"\n",
    "\n",
    "from fontTools.ttLib import TTFont\n",
    "\n",
    "from patched_font_transformer.torchfont.transforms import (\n",
    "    Compose,\n",
    "    DecomposeSegment,\n",
    "    NormalizeSegment,\n",
    "    PostScriptSegmentToTensor,\n",
    "    QuadToCubic,\n",
    "    SplitIntoPatches,\n",
    ")\n",
    "\n",
    "src_font_path = \"../fonts/ofl/abeezee/ABeeZee-Regular.ttf\"\n",
    "target_font_path = \"../fonts/ofl/zillaslab/ZillaSlab-Regular.ttf\"\n",
    "\n",
    "src_font = TTFont(file=src_font_path)\n",
    "\n",
    "transforms = Compose(\n",
    "    [\n",
    "        DecomposeSegment(),\n",
    "        NormalizeSegment(),\n",
    "        QuadToCubic(),\n",
    "        PostScriptSegmentToTensor(\"zeros\"),\n",
    "        SplitIntoPatches(patch_size=4),\n",
    "    ],\n",
    ")\n",
    "\n",
    "transforms\n"
   ]
  },
  {
   "cell_type": "code",
   "execution_count": null,
   "metadata": {},
   "outputs": [],
   "source": [
    "from patched_font_transformer.torchfont.datasets.multi_font import MultiFontDataset\n",
    "\n",
    "dataset = MultiFontDataset(\n",
    "    fonts=[src_font],\n",
    "    transform=transforms,\n",
    ")\n"
   ]
  },
  {
   "cell_type": "code",
   "execution_count": null,
   "metadata": {},
   "outputs": [],
   "source": [
    "from torch.utils.data import DataLoader\n",
    "\n",
    "from patched_font_transformer.modules.collate_fn import (\n",
    "    MultiFontPatchedPostScriptCollate,\n",
    ")\n",
    "\n",
    "dataloader = DataLoader(\n",
    "    dataset,\n",
    "    batch_size=16,\n",
    "    collate_fn=MultiFontPatchedPostScriptCollate(patch_len=4),\n",
    ")\n"
   ]
  },
  {
   "cell_type": "code",
   "execution_count": null,
   "metadata": {},
   "outputs": [],
   "source": [
    "for batch in dataloader:\n",
    "    print(batch)\n",
    "    break\n"
   ]
  }
 ],
 "metadata": {
  "kernelspec": {
   "display_name": ".venv",
   "language": "python",
   "name": "python3"
  },
  "language_info": {
   "codemirror_mode": {
    "name": "ipython",
    "version": 3
   },
   "file_extension": ".py",
   "mimetype": "text/x-python",
   "name": "python",
   "nbconvert_exporter": "python",
   "pygments_lexer": "ipython3",
   "version": "3.12.9"
  }
 },
 "nbformat": 4,
 "nbformat_minor": 2
}
