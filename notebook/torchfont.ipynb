{
 "cells": [
  {
   "cell_type": "code",
   "execution_count": null,
   "metadata": {},
   "outputs": [],
   "source": [
    "\"\"\"Test code for torchfont module.\"\"\"\n",
    "\n",
    "from fontTools.ttLib import TTFont\n",
    "\n",
    "from patched_font_transformer.torchfont.transforms import (\n",
    "    Compose,\n",
    "    DecomposeSegment,\n",
    "    NormalizeSegment,\n",
    "    PostScriptSegmentToTensor,\n",
    "    QuadToCubic,\n",
    "    SplitIntoPatches,\n",
    ")\n",
    "\n",
    "src_font_path = \"../fonts/ofl/abeezee/ABeeZee-Regular.ttf\"\n",
    "target_font_path = \"../fonts/ofl/zillaslab/ZillaSlab-Regular.ttf\"\n",
    "\n",
    "src_font = TTFont(file=src_font_path)\n",
    "target_font = TTFont(file=target_font_path)\n",
    "\n",
    "transforms = Compose(\n",
    "    [\n",
    "        DecomposeSegment(),\n",
    "        NormalizeSegment(),\n",
    "        QuadToCubic(),\n",
    "        PostScriptSegmentToTensor(\"zeros\"),\n",
    "        SplitIntoPatches(patch_size=4),\n",
    "    ],\n",
    ")\n",
    "\n",
    "transforms\n"
   ]
  },
  {
   "cell_type": "code",
   "execution_count": null,
   "metadata": {},
   "outputs": [],
   "source": [
    "from patched_font_transformer.torchfont.datasets.font_pair import FontPairDataset\n",
    "\n",
    "dataset = FontPairDataset(\n",
    "    src_font=src_font,\n",
    "    target_font=target_font,\n",
    "    transform=transforms,\n",
    ")\n",
    "\n",
    "src_glyph, target_glyph = dataset[45]\n"
   ]
  },
  {
   "cell_type": "code",
   "execution_count": null,
   "metadata": {},
   "outputs": [],
   "source": [
    "src_glyph\n"
   ]
  },
  {
   "cell_type": "code",
   "execution_count": null,
   "metadata": {},
   "outputs": [],
   "source": [
    "target_glyph\n"
   ]
  }
 ],
 "metadata": {
  "kernelspec": {
   "display_name": ".venv",
   "language": "python",
   "name": "python3"
  },
  "language_info": {
   "codemirror_mode": {
    "name": "ipython",
    "version": 3
   },
   "file_extension": ".py",
   "mimetype": "text/x-python",
   "name": "python",
   "nbconvert_exporter": "python",
   "pygments_lexer": "ipython3",
   "version": "3.12.9"
  }
 },
 "nbformat": 4,
 "nbformat_minor": 2
}
